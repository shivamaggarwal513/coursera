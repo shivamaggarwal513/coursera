{
 "cells": [
  {
   "attachments": {},
   "cell_type": "markdown",
   "metadata": {},
   "source": [
    "# Model Representation"
   ]
  },
  {
   "cell_type": "code",
   "execution_count": null,
   "metadata": {},
   "outputs": [],
   "source": [
    "import numpy as np\n",
    "import matplotlib.pyplot as plt"
   ]
  },
  {
   "attachments": {},
   "cell_type": "markdown",
   "metadata": {},
   "source": [
    "## Problem Statement\n",
    "\n",
    "**Housing Price Prediction**\n",
    "\n",
    "This lab will use a simple data set with only two data points - a house with 1000 square feet(sqft) sold for $300,000 and a house with 2000 square feet sold for $500,000. These two points will constitute our *data or training set*. In this lab, the units of size are 1000 sqft and the units of price are 1000s of dollars.\n",
    "\n",
    "| Size (1000 sqft)     | Price (1000s of dollars) |\n",
    "| -------------------- | ------------------------ |\n",
    "| 1.0                  | 300                      |\n",
    "| 2.0                  | 500                      |\n",
    "\n",
    "We would like to fit a linear regression model through these two points, so we can then predict price for other houses - say, a house with 1200 sqft."
   ]
  },
  {
   "cell_type": "code",
   "execution_count": null,
   "metadata": {},
   "outputs": [],
   "source": [
    "x_train = np.array([1.0, 2.0])\n",
    "y_train = np.array([300.0, 500.0])\n",
    "print(f\"x_train = {x_train}\")\n",
    "print(f\"y_train = {y_train}\")"
   ]
  },
  {
   "attachments": {},
   "cell_type": "markdown",
   "metadata": {},
   "source": [
    "## Model Function\n",
    "\n",
    "The model function for linear regression (which is a function that maps from `x` to `y`) is represented as\n",
    "$$f_{w,b}(x^{(i)}) = wx^{(i)} + b$$"
   ]
  },
  {
   "cell_type": "code",
   "execution_count": null,
   "metadata": {},
   "outputs": [],
   "source": [
    "def compute_model_output(x, w, b):\n",
    "    \"\"\"\n",
    "    Computes the predection of a linear model\n",
    "\n",
    "    Args:\n",
    "        x (ndarray (m,)): Data, m examples\n",
    "        w,b (scalar)    : model parameters\n",
    "    Returns\n",
    "        y (ndarray (m,)): target values\n",
    "    \"\"\"\n",
    "    return np.array([w * x_i + b for x_i in x])"
   ]
  },
  {
   "cell_type": "code",
   "execution_count": null,
   "metadata": {},
   "outputs": [],
   "source": [
    "w, b = 200, 100"
   ]
  },
  {
   "cell_type": "code",
   "execution_count": null,
   "metadata": {},
   "outputs": [],
   "source": [
    "f_wb = compute_model_output(x_train, w, b)\n",
    "\n",
    "plt.plot(x_train, f_wb, c='b', label='Our Prediction')\n",
    "plt.scatter(x_train, y_train, marker='x', c='r', label='Actual Values')\n",
    "plt.title('Housing Prices')\n",
    "plt.xlabel('Size (1000 sqft)')\n",
    "plt.ylabel('Price (in 1000s of dollars)')\n",
    "plt.legend()\n",
    "plt.show()"
   ]
  }
 ],
 "metadata": {
  "kernelspec": {
   "display_name": "Python 3",
   "language": "python",
   "name": "python3"
  },
  "language_info": {
   "codemirror_mode": {
    "name": "ipython",
    "version": 3
   },
   "file_extension": ".py",
   "mimetype": "text/x-python",
   "name": "python",
   "nbconvert_exporter": "python",
   "pygments_lexer": "ipython3",
   "version": "3.10.2"
  },
  "orig_nbformat": 4
 },
 "nbformat": 4,
 "nbformat_minor": 2
}
